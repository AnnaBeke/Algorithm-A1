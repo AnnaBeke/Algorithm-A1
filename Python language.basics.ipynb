{
  "nbformat": 4,
  "nbformat_minor": 0,
  "metadata": {
    "colab": {
      "name": "Untitled1.ipynb",
      "provenance": [],
      "authorship_tag": "ABX9TyMmU9U+3/j5JfeRp42CpBH5",
      "include_colab_link": true
    },
    "kernelspec": {
      "name": "python3",
      "display_name": "Python 3"
    },
    "language_info": {
      "name": "python"
    }
  },
  "cells": [
    {
      "cell_type": "markdown",
      "metadata": {
        "id": "view-in-github",
        "colab_type": "text"
      },
      "source": [
        "<a href=\"https://colab.research.google.com/github/AnnaBeke/Algorithm-A1/blob/main/Python%20language.basics.ipynb\" target=\"_parent\"><img src=\"https://colab.research.google.com/assets/colab-badge.svg\" alt=\"Open In Colab\"/></a>"
      ]
    },
    {
      "cell_type": "code",
      "metadata": {
        "id": "K4GGKKwgcMMY"
      },
      "source": [
        ""
      ],
      "execution_count": null,
      "outputs": []
    },
    {
      "cell_type": "markdown",
      "metadata": {
        "id": "6vDxHKnmcPAa"
      },
      "source": [
        "#DATA TYPES\n"
      ]
    },
    {
      "cell_type": "code",
      "metadata": {
        "colab": {
          "base_uri": "https://localhost:8080/"
        },
        "id": "wZRtBzk0cYnL",
        "outputId": "20527355-5911-48a3-f17b-abfb5bb0d48b"
      },
      "source": [
        "\"Hello Pika\"\n",
        "# \"Hello Pika\" is a string/object/DATA. For Python use '' or \"\". Short str() in conversions.\n",
        "\n",
        "22\n",
        "# Numbers. For whole number use int().\n",
        "\n",
        "22.1\n",
        "# Decimal numbers- Floats. Use float() for conversions. \n",
        "\n",
        "True\n",
        "False\n",
        "# Booleans. Used to confirm something on code, yes/no. Use bool() for conversions. For Python always write True or False with capital letters.\n",
        "\n",
        "cat = 'Pika'\n",
        "# cat (in this case) is a name of VARIABLE- temporary DATA that can be changed. 'Pika' is a VALUE of the variable. If the name of variable is several words, use _ to seperate (my_cat).\n",
        "\n",
        "cat = 'Pika'\n",
        "print(cat)\n",
        "# It will print 'Pika' not cat, because cat='Pika' unless it is written ('cat')-then cat is not variable anymore but string. \n",
        "\n",
        "\n"
      ],
      "execution_count": 2,
      "outputs": [
        {
          "output_type": "stream",
          "text": [
            "Pika\n"
          ],
          "name": "stdout"
        }
      ]
    },
    {
      "cell_type": "markdown",
      "metadata": {
        "id": "6YU82Vd3gR8O"
      },
      "source": [
        "# FUNCTIONS\n"
      ]
    },
    {
      "cell_type": "markdown",
      "metadata": {
        "id": "ZaQJl5UKgqjy"
      },
      "source": [
        "##Input function"
      ]
    },
    {
      "cell_type": "code",
      "metadata": {
        "colab": {
          "base_uri": "https://localhost:8080/",
          "height": 262
        },
        "id": "hC0wQweGguhr",
        "outputId": "2ea8169c-556f-4807-ecef-e20fb8742bff"
      },
      "source": [
        "input('Write your name: ')\n",
        "# input() is a built in function to collect manual DATA from user, like asking to input the DATA about the name,age etc.\n",
        "# input('string to be inserted here') \n",
        "\n",
        "name= input('Write your name: ')\n",
        "# This way the collected Data is made as variable and can be further used as - name   without writing all-   input('Write your name: ').\n",
        "\n",
        "print('Hello '+ name)\n",
        "# This way strings can be combined- the coded string + Data collected from User converted to variable. \n",
        "\n",
        "birth_year = input('Enter your birth year: ')\n",
        "# age= 2021 - birth_year\n",
        "# Python DOES NOT allow this function because the birth_year input data automatically codes as a string. To make it work, the input has to be converted to the numbers int() or float().\n",
        "\n",
        "age = 2021 - int(birth_year)\n",
        "print(age)\n",
        "\n"
      ],
      "execution_count": 12,
      "outputs": [
        {
          "output_type": "stream",
          "text": [
            "Write your name: Pika\n",
            "Write your name: Pika\n"
          ],
          "name": "stdout"
        },
        {
          "output_type": "error",
          "ename": "TypeError",
          "evalue": "ignored",
          "traceback": [
            "\u001b[0;31m---------------------------------------------------------------------------\u001b[0m",
            "\u001b[0;31mTypeError\u001b[0m                                 Traceback (most recent call last)",
            "\u001b[0;32m<ipython-input-12-7cfaf0990b99>\u001b[0m in \u001b[0;36m<module>\u001b[0;34m()\u001b[0m\n\u001b[1;32m      6\u001b[0m \u001b[0;31m# This way the collected Data is made as variable and can be further used as - name   without writing all-   input('Write your name: ').\u001b[0m\u001b[0;34m\u001b[0m\u001b[0;34m\u001b[0m\u001b[0;34m\u001b[0m\u001b[0m\n\u001b[1;32m      7\u001b[0m \u001b[0;34m\u001b[0m\u001b[0m\n\u001b[0;32m----> 8\u001b[0;31m \u001b[0mprint\u001b[0m\u001b[0;34m(\u001b[0m\u001b[0;34m'Hello '\u001b[0m\u001b[0;34m+\u001b[0m \u001b[0mname\u001b[0m\u001b[0;34m)\u001b[0m\u001b[0;34m\u001b[0m\u001b[0;34m\u001b[0m\u001b[0m\n\u001b[0m\u001b[1;32m      9\u001b[0m \u001b[0;31m# This way strings can be combined- the coded string + Data collected from User converted to variable.\u001b[0m\u001b[0;34m\u001b[0m\u001b[0;34m\u001b[0m\u001b[0;34m\u001b[0m\u001b[0m\n\u001b[1;32m     10\u001b[0m \u001b[0;34m\u001b[0m\u001b[0m\n",
            "\u001b[0;31mTypeError\u001b[0m: 'int' object is not callable"
          ]
        }
      ]
    }
  ]
}
{
  "nbformat": 4,
  "nbformat_minor": 0,
  "metadata": {
    "colab": {
      "name": "Untitled2.ipynb",
      "provenance": [],
      "authorship_tag": "ABX9TyOJdPC5Qwq6cnhe5SW1Abjy",
      "include_colab_link": true
    },
    "kernelspec": {
      "name": "python3",
      "display_name": "Python 3"
    },
    "language_info": {
      "name": "python"
    }
  },
  "cells": [
    {
      "cell_type": "markdown",
      "metadata": {
        "id": "view-in-github",
        "colab_type": "text"
      },
      "source": [
        "<a href=\"https://colab.research.google.com/github/AnnaBeke/Algorithm-A1/blob/main/Dimanta%20Uzdevums.ipynb\" target=\"_parent\"><img src=\"https://colab.research.google.com/assets/colab-badge.svg\" alt=\"Open In Colab\"/></a>"
      ]
    },
    {
      "cell_type": "markdown",
      "metadata": {
        "id": "mrxqA7gcf8oJ"
      },
      "source": [
        "#Dimanta uzdevums"
      ]
    },
    {
      "cell_type": "code",
      "metadata": {
        "colab": {
          "base_uri": "https://localhost:8080/"
        },
        "id": "oQXXndMYgE6e",
        "outputId": "970b8c21-8690-4bd5-e5fb-e98da838f1d9"
      },
      "source": [
        "h = int(input('Ievadi ciparu: ')) #Ievadītais cipars tiek konvertēts uz int() un nosaukts par h. Var arī sadalīt divos soļos: s=input(ievadi ciparu: '); h=int(s)\n",
        "\n",
        "if h%2==0:       # ja ievadītais cipars ir pāra skaitlis (skaitlis%2==0 nozīmē pāra),\n",
        "\n",
        "  h= (h+1)      # tad pārveidojam ciparu, lai būtu nepāra, pieliekam vai atņemam 1.\n",
        "\n",
        "\n",
        "  for i in range(1,h,2):     #kods sadalīts divās daļās-augoši un dilstoši, tādēļ, lai apzīmētu, kas jādara kurā daļā izmanto for loops. i apzīmē item(šajā gadījumā tie ir skaitļi)\n",
        "                                # in range(1,h,2) nozīmē item jeb i tiks izmantots sākot ar 1 līdz h(ievadītajam ciparam), 2 beigās nozīmē, ka item augs nevis par 1 ciparu uz augšu, bet gan par 2.\n",
        "                                \n",
        "                                 # piemēram, ja h=7, tad range(1,h,2) izkatīsies tā (1,3,5).\n",
        "\n",
        "    print(\" \"*(h//2-i//2),\"*\"*i)  # (h//2-i//2) nozīmē ievadītais cipars tiek dalīts ar divi un arī item kārtas skaitlis tiek dalīts ar divi. jo lielāka starpība, jo vairāk space\n",
        "                                  #būs starp sākumu un zvaigznīti. Ar 2 jādala, jo rombs sākas pa vidu un ir jāatrod tas viduspunkts no pilnā range.\n",
        "                                  #\" \"*(h//2-i//2) nozīmē, ka space(tukšumi) tiek sareizināti ar to starpību starp 1/2 no h un 1/2 no i. Jo lielāks i kārtas numurs, jo starpība mazāka,\n",
        "                                  #'*'*i nozīmē, ka zvaigznītes aug attiecīgi ar item number. Tā veidojas augšējā daļa.\n",
        "  \n",
        "\n",
        "\n",
        "  for i in range(h,0,-2):    #Lai izveidotu apakšējo daļu strādā tas pats pricips, tikai apvērstā secībā h,0 un -2 lai cipari nevis augtu bet saruktu.\n",
        "\n",
        "    print(\" \"*(h//2-i//2), \"*\"*i)\n",
        "  \n",
        "  \n",
        "else: \n",
        "  for i in range(1,h,2):\n",
        "    print(\" \"*(h//2-i//2),\"*\"*i)\n",
        "  for i in range(h,0,-2):\n",
        "    print(\" \"*(h//2-i//2), \"*\"*i)\n",
        "\n",
        "\n"
      ],
      "execution_count": 16,
      "outputs": [
        {
          "output_type": "stream",
          "text": [
            "Ievadi ciparu: 12\n",
            "       *\n",
            "      ***\n",
            "     *****\n",
            "    *******\n",
            "   *********\n",
            "  ***********\n",
            " *************\n",
            "  ***********\n",
            "   *********\n",
            "    *******\n",
            "     *****\n",
            "      ***\n",
            "       *\n"
          ],
          "name": "stdout"
        }
      ]
    }
  ]
}
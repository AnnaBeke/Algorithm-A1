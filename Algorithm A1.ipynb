{
  "nbformat": 4,
  "nbformat_minor": 0,
  "metadata": {
    "colab": {
      "name": "Untitled0.ipynb",
      "provenance": [],
      "collapsed_sections": [],
      "authorship_tag": "ABX9TyM13xNoXbrvgynw5WV1vHZg",
      "include_colab_link": true
    },
    "kernelspec": {
      "name": "python3",
      "display_name": "Python 3"
    },
    "language_info": {
      "name": "python"
    }
  },
  "cells": [
    {
      "cell_type": "markdown",
      "metadata": {
        "id": "view-in-github",
        "colab_type": "text"
      },
      "source": [
        "<a href=\"https://colab.research.google.com/github/AnnaBeke/Algorithm-A1/blob/main/Algorithm%20A1.ipynb\" target=\"_parent\"><img src=\"https://colab.research.google.com/assets/colab-badge.svg\" alt=\"Open In Colab\"/></a>"
      ]
    },
    {
      "cell_type": "code",
      "metadata": {
        "colab": {
          "base_uri": "https://localhost:8080/"
        },
        "id": "8GEinxvbLwk9",
        "outputId": "e37ecf21-e706-4f6f-9a55-970305d80e28"
      },
      "source": [
        "x='Anna'\n",
        "y= 'AnnaBeke'\n",
        "print(''.join(sorted(x)))\n",
        "print(''.join(sorted(y)))"
      ],
      "execution_count": 2,
      "outputs": [
        {
          "output_type": "stream",
          "text": [
            "Aann\n",
            "ABaeeknn\n"
          ],
          "name": "stdout"
        }
      ]
    }
  ]
}